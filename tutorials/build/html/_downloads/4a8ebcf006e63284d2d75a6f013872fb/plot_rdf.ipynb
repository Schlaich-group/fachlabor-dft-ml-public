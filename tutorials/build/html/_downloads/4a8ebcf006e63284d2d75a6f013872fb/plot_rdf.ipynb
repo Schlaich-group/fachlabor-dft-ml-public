{
  "cells": [
    {
      "cell_type": "markdown",
      "metadata": {},
      "source": [
        ".. _rdf\n\n# Calculating the radial distribution function\n\nIn this tutorial we will learn how to analyse (ab-initio) molecular dynamics trajectories.\nWe will use the tool MDAnalysis to read our simulation data files and calculate the radial distribution \nfunction.\n\n[Wikipedia page on RDF:](https://en.wikipedia.org/wiki/Radial_distribution_function)\n[MDAnalysis documentation on RDF:](https://docs.mdanalysis.org/stable/documentation_pages/analysis/rdf.html)\n\nWe first import our python modules\n"
      ]
    },
    {
      "cell_type": "code",
      "execution_count": null,
      "metadata": {
        "collapsed": false
      },
      "outputs": [],
      "source": [
        "import numpy as np\nimport matplotlib.pyplot as plt\nfrom pathlib import Path\n\nimport MDAnalysis as mda\nfrom MDAnalysis.analysis.rdf import InterRDF"
      ]
    },
    {
      "cell_type": "markdown",
      "metadata": {},
      "source": [
        "Then we define our project path. Replace the path with your own project path\n\n"
      ]
    },
    {
      "cell_type": "code",
      "execution_count": null,
      "metadata": {
        "collapsed": false
      },
      "outputs": [],
      "source": [
        "PROJECT_PATH=Path(\"/home/kira/Git/fachlabor-dft-ml/solutions/dft\")"
      ]
    },
    {
      "cell_type": "markdown",
      "metadata": {},
      "source": [
        "Next, we load our simulation output.\n\n"
      ]
    },
    {
      "cell_type": "code",
      "execution_count": null,
      "metadata": {
        "collapsed": false
      },
      "outputs": [],
      "source": [
        "universe = mda.Universe(PROJECT_PATH / \"Argon_Simulation-pos-1.xyz\")"
      ]
    },
    {
      "cell_type": "markdown",
      "metadata": {},
      "source": [
        "# The Universe object contains the atomic positions for each timestep. \n# Note that the xyz file does not contain any information on the dimensions\n\n"
      ]
    },
    {
      "cell_type": "code",
      "execution_count": null,
      "metadata": {
        "collapsed": false
      },
      "outputs": [],
      "source": [
        "print(f\"dimensions from xyz file {universe.dimensions}\")"
      ]
    },
    {
      "cell_type": "markdown",
      "metadata": {},
      "source": [
        "So we must set the dimensions ourself to \n\n"
      ]
    },
    {
      "cell_type": "code",
      "execution_count": null,
      "metadata": {
        "collapsed": false
      },
      "outputs": [],
      "source": [
        "box_l = 17.0742\nuniverse.dimensions = [box_l, box_l, box_l, 90, 90, 90]"
      ]
    },
    {
      "cell_type": "markdown",
      "metadata": {},
      "source": [
        "Let's also check how many frames we've loaded with\n\n"
      ]
    },
    {
      "cell_type": "code",
      "execution_count": null,
      "metadata": {
        "collapsed": false
      },
      "outputs": [],
      "source": [
        "print(f\"loaded {len(universe.trajectory)} frames\")\n## We now want to run an radial distribution analysis using InterRDF\n\nrdf = InterRDF(universe.atoms, universe.atoms, \n               n_bins = 100,\n               range = (1.0, box_l / 2)\n               )"
      ]
    },
    {
      "cell_type": "markdown",
      "metadata": {},
      "source": [
        "We then run the analysis with\n\n"
      ]
    },
    {
      "cell_type": "code",
      "execution_count": null,
      "metadata": {
        "collapsed": false
      },
      "outputs": [],
      "source": [
        "rdf.run()"
      ]
    },
    {
      "cell_type": "markdown",
      "metadata": {},
      "source": [
        "Next, we plot our results\n\n"
      ]
    },
    {
      "cell_type": "code",
      "execution_count": null,
      "metadata": {
        "collapsed": false
      },
      "outputs": [],
      "source": [
        "plt.plot(rdf.results.bins, rdf.results.rdf)\nplt.xlabel(\"$r$ in A\")\nplt.ylabel(\"g(r)\")"
      ]
    },
    {
      "cell_type": "markdown",
      "metadata": {},
      "source": [
        "and save and show our figure\n\n"
      ]
    },
    {
      "cell_type": "code",
      "execution_count": null,
      "metadata": {
        "collapsed": false
      },
      "outputs": [],
      "source": [
        "plt.savefig(PROJECT_PATH / \"rdf.png\", dpi=300)\nplt.show()"
      ]
    }
  ],
  "metadata": {
    "kernelspec": {
      "display_name": "Python 3",
      "language": "python",
      "name": "python3"
    },
    "language_info": {
      "codemirror_mode": {
        "name": "ipython",
        "version": 3
      },
      "file_extension": ".py",
      "mimetype": "text/x-python",
      "name": "python",
      "nbconvert_exporter": "python",
      "pygments_lexer": "ipython3",
      "version": "3.13.2"
    }
  },
  "nbformat": 4,
  "nbformat_minor": 0
}