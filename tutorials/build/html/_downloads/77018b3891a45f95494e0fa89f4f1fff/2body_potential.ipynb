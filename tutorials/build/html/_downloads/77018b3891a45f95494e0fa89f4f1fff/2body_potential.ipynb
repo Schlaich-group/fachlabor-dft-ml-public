{
  "cells": [
    {
      "cell_type": "markdown",
      "metadata": {},
      "source": [
        "\n# Calculating the 2 body potential of Argon using ASE and CP2K\n\nIn this tutorial you will learn how to calculate the 2 body potential between two Argon atoms with DFT. \nWe will use ASE (Atomic Simulation Environment) to setup our simulation. \nTo do our energy calculation, ASE will call CP2K, which implements DFT.\n\nFirst, we import our Python modules\n"
      ]
    },
    {
      "cell_type": "code",
      "execution_count": null,
      "metadata": {
        "collapsed": false
      },
      "outputs": [],
      "source": [
        "# uncomment the following line if running a jupyter notebook\n# %matplotlib inline\n\nimport numpy as np\nimport matplotlib.pyplot as plt\nfrom ase import Atoms\nfrom ase.calculators.cp2k import CP2K\nimport matplotlib\nimport scipy.constants as c\n\n# uncomment the following line if running on a cluster\n# matplotlib.use(\"agg\")"
      ]
    },
    {
      "cell_type": "markdown",
      "metadata": {},
      "source": [
        "We also import pint, which will help us to keep track of units.\n\n"
      ]
    },
    {
      "cell_type": "code",
      "execution_count": null,
      "metadata": {
        "collapsed": false
      },
      "outputs": [],
      "source": [
        "import pint\n\nureg = pint.UnitRegistry()"
      ]
    },
    {
      "cell_type": "markdown",
      "metadata": {},
      "source": [
        "Next, we create an Atoms object with two argon atoms placed a distance apart.\n\n"
      ]
    },
    {
      "cell_type": "code",
      "execution_count": null,
      "metadata": {
        "collapsed": false
      },
      "outputs": [],
      "source": [
        "distance = 3.3 * ureg.angstrom\ntwo_argon_atoms = Atoms(\"Ar2\", [[0, 0, 0], [0, 0, distance.magnitude]])"
      ]
    },
    {
      "cell_type": "markdown",
      "metadata": {},
      "source": [
        "We set the cubic simulation box size to something much larger than Ar-Ar distance\nand apply periodic boundary conditions in all directions.\n\n"
      ]
    },
    {
      "cell_type": "code",
      "execution_count": null,
      "metadata": {
        "collapsed": false
      },
      "outputs": [],
      "source": [
        "two_argon_atoms.center(vacuum=3)\ntwo_argon_atoms.pbc = [1, 1, 1]"
      ]
    },
    {
      "cell_type": "markdown",
      "metadata": {},
      "source": [
        "We will use CP2K as a calculator for our Atoms object.\nFirst, we specify calculation settings, you will not have to worry about these\n\n"
      ]
    },
    {
      "cell_type": "code",
      "execution_count": null,
      "metadata": {
        "collapsed": false
      },
      "outputs": [],
      "source": [
        "inp = \"\"\"\n# Parameters for force calculation.\n&FORCE_EVAL\n    # Define the DFT parameters\n\n    &DFT\n        &SCF\n            &OT\n                MINIMIZER DIIS\n                PRECONDITIONER FULL_SINGLE_INVERSE\n            &END OT\n            &OUTER_SCF\n                MAX_SCF 100\n                EPS_SCF 1.0E-6\n            &END OUTER_SCF\n        &END SCF\n\n    &END DFT\n&END FORCE_EVAL\n\"\"\""
      ]
    },
    {
      "cell_type": "markdown",
      "metadata": {},
      "source": [
        "Next, we specify our basis set, pseudo potential and exchange correlation functional\n\n"
      ]
    },
    {
      "cell_type": "code",
      "execution_count": null,
      "metadata": {
        "collapsed": false
      },
      "outputs": [],
      "source": [
        "two_argon_atoms.calc = CP2K(inp=inp,\n                            basis_set=\"DZVP-MOLOPT-SR-GTH\",\n                            pseudo_potential=\"GTH-PBE-q8\",\n                            potential_file=\"GTH_POTENTIALS\",\n                            xc=\"PBE\",\n                            command=\"cp2k_shell.psmp\",\n                            )"
      ]
    },
    {
      "cell_type": "markdown",
      "metadata": {},
      "source": [
        "We can now run our first DFT calculation with\n\n"
      ]
    },
    {
      "cell_type": "code",
      "execution_count": null,
      "metadata": {
        "collapsed": false
      },
      "outputs": [],
      "source": [
        "E = two_argon_atoms.get_potential_energy()\nprint(E)"
      ]
    },
    {
      "cell_type": "markdown",
      "metadata": {},
      "source": [
        "This will return us a single potential energy for the specified interatomic distance. \nNext, we want to sample a region between 3.3 and 6.0 Angstrom and get the potential energy for each distance\n\n"
      ]
    },
    {
      "cell_type": "code",
      "execution_count": null,
      "metadata": {
        "collapsed": false
      },
      "outputs": [],
      "source": [
        "distances = np.linspace(3.3, 6.0, 20)\nenergies = np.zeros(distances.shape)\n\nfor i in range(len(distances)):\n    two_argon_atoms.set_positions([[0, 0, 0], [0, 0, distances[i]]])\n    two_argon_atoms.center(vacuum=3)\n    print(distances[i])\n    print(two_argon_atoms.get_positions())\n\n    E = two_argon_atoms.get_potential_energy()\n    print(E)\n    energies[i] = E"
      ]
    },
    {
      "cell_type": "markdown",
      "metadata": {},
      "source": [
        "Finally, we plot the energy as a function of the interatomic distance. \n\n"
      ]
    },
    {
      "cell_type": "code",
      "execution_count": null,
      "metadata": {
        "collapsed": false
      },
      "outputs": [],
      "source": [
        "plt.plot(distances, energies, \"x\", label=\"DFT\")\nplt.xlabel(\"$R$ in Angstrom\")\nplt.ylabel(\"$E$ in eV\")\n\n# TODO: Plot the LJ potential\nplt.legend()\nplt.savefig(\"2body_potential.png\", dpi=300)\n#plt.show()"
      ]
    }
  ],
  "metadata": {
    "kernelspec": {
      "display_name": "Python 3",
      "language": "python",
      "name": "python3"
    },
    "language_info": {
      "codemirror_mode": {
        "name": "ipython",
        "version": 3
      },
      "file_extension": ".py",
      "mimetype": "text/x-python",
      "name": "python",
      "nbconvert_exporter": "python",
      "pygments_lexer": "ipython3",
      "version": "3.11.3"
    }
  },
  "nbformat": 4,
  "nbformat_minor": 0
}