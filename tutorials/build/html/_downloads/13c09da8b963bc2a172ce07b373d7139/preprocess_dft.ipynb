{
  "cells": [
    {
      "cell_type": "markdown",
      "metadata": {},
      "source": [
        "\n# Preprocessing DFT Data\n\nIn this tutorial we will preprocess our DFT data. CP2K generates data with units in ...\nbut GAP takes data in units of ...\nFurthermore, GAP uses slightly different labelling from CP2K. That's why we need to preprocess\n\nWe start with importing our python modules. We use tqdm to show a nice progress bar and pint to do unit conversions\n"
      ]
    },
    {
      "cell_type": "code",
      "execution_count": null,
      "metadata": {
        "collapsed": false
      },
      "outputs": [],
      "source": [
        "from tqdm import tqdm\nimport pint\nureg = pint.UnitRegistry()"
      ]
    },
    {
      "cell_type": "markdown",
      "metadata": {},
      "source": [
        "We set our project path as\n\n"
      ]
    },
    {
      "cell_type": "code",
      "execution_count": null,
      "metadata": {
        "collapsed": false
      },
      "outputs": [],
      "source": [
        "PROJECT_PATH = Path(\"/home/kira/Git/fachlabor-dft-ml/solutions\")"
      ]
    },
    {
      "cell_type": "markdown",
      "metadata": {},
      "source": [
        "Now, we define our conversion constants\n\n"
      ]
    },
    {
      "cell_type": "code",
      "execution_count": null,
      "metadata": {
        "collapsed": false
      },
      "outputs": [],
      "source": [
        "HARTREE_BOHR_TO_EVOLT_ANGSTROM = (1 * ureg.hartree / ureg.bohr).to(ureg.e * ureg.volt / ureg.angstrom).magnitude \nHARTREE_TO_EVOLT = (1 * ureg.hartree).to(ureg.e * ureg.volt).magnitude"
      ]
    },
    {
      "cell_type": "markdown",
      "metadata": {},
      "source": [
        "Next, we have our converter. You don't have to read the whole function, just take a look at the parameters the function takes as an input. \n\n"
      ]
    },
    {
      "cell_type": "code",
      "execution_count": null,
      "metadata": {
        "collapsed": false
      },
      "outputs": [],
      "source": [
        "def _xyz_to_extxyz(\n    outfile=\"Dataset\", positions=None, forces=None, pressure=None, lattice=None\n):\n    \"\"\"\n    Convert xyz files to extxyz files\n    The most efficient text based file input for ASE is the extended xyz format.\n\n    kwargs:\n        outfile (str) -- name of the output file\n        positions (str) -- file path of the positions file\n        forces (str) -- file path to the forces file\n        virials (str) -- file path to the virials file\n        box (list) -- Box array\n    \"\"\"\n    FORCE_FACTOR = HARTREE_BOHR_TO_EVOLT_ANGSTROM # 51.4220670719\n    ENERGY_FACTOR = HARTREE_TO_EVOLT  # 27.21138602\n\n    print(f\"the force factor is {FORCE_FACTOR}\")\n    print(f\"the energy factor is {ENERGY_FACTOR}\")\n\n    def _header_line(obj, box, index, energy, time, conversion=True):\n        \"\"\"Function to print the header line\n        The header line in the extxyz format is somewhat complicated. For this reason,\n        we use a separate function to generate this line during each iteration in the\n        sampling function. This function will write directly to the given file object,\n        it will not return a string to be written.\n        args:\n            obj (object) -- file object to write to\n            lattice (array) -- a lattice describing the cell\n            index (str) -- the configuration number\n            energy (str) -- energy of the system\n            time (str) -- time given in the configuration\n        kwargs:\n            conversion (bool) -- Most cp2k outputs here will be in Hartree.\n            This will convert it to eV\n        \"\"\"\n\n        if conversion:\n            energy = float(energy) * ENERGY_FACTOR\n\n        # Calculate the properties string\n        if forces is not None and pressure is not None:\n            properties_string = \"species:S:1:pos:R:3:forces:R:3:virials:R:3\"\n        elif forces is not None and pressure is None:\n            properties_string = \"species:S:1:pos:R:3:forces:R:3\"\n        elif forces is None and pressure is not None:\n            properties_string = \"species:S:1:pos:R:3:virials:R:3\"\n        else:\n            properties_string = \"species:S:1:pos:R:3\"\n\n        obj.write(\n            f'Lattice=\"{box[0][0]} {box[0][1]} {box[0][2]}'\n            f\" {box[1][0]} {box[1][1]} {box[1][2]}\"\n            f' {box[2][0]} {box[2][1]} {box[2][2]}\"'\n            f\" Properties={properties_string}\"\n            f\" cutoff=-1.0 energy={energy} nneightol=0.0 i={index}\"\n            f' pbc=\"T T T\" time={time}\\n'\n        )\n\n    def _read_file(filename):\n        \"\"\"read a file into memory\"\"\"\n        data = []\n        with open(filename) as f_obj:\n            for line in f_obj:\n                data.append(line.split())\n\n        return data\n\n    def _get_system_properties():\n        \"\"\"Characterize the system\"\"\"\n\n        with open(positions) as f:\n            COMMENT_LINE = [next(f).split() for _ in range(2)]\n            number_of_atoms = int(COMMENT_LINE[0][0])\n\n        with open(positions) as f:\n            number_of_lines = sum(1 for line in f)\n\n        number_of_configurations = number_of_lines / (number_of_atoms + 2)\n\n        if forces is not None and pressure is not None:\n            properties = [positions, forces, pressure]\n        elif forces is not None and pressure is None:\n            properties = [positions, forces]\n        elif forces is None and pressure is not None:\n            properties = [positions, pressure]\n        else:\n            properties = [positions]\n\n        return number_of_atoms, number_of_configurations, properties\n\n    number_of_atoms, number_of_configurations, properties = _get_system_properties()\n    data_arrays = []\n    for item in properties:\n        data_arrays.append(_read_file(item))\n\n    start = 0\n    stop = number_of_configurations\n    step = number_of_atoms + 2\n    with open(f\"{outfile}.xyz\", \"w\") as f:\n        for i in tqdm(range(int(start), int(stop))):\n            f.write(f\"{number_of_atoms}\\n\")\n            _header_line(\n                f,\n                lattice,\n                data_arrays[0][1 + i * step][2],\n                data_arrays[0][1 + i * step][8],\n                data_arrays[0][1 + i * step][5],\n            )\n            for j in range(2 + i * step, number_of_atoms + i * step + 2):\n                for k in range(len(data_arrays)):\n                    if k == 0:\n                        f.write(\n                            f\"{data_arrays[k][j][0]:<2}    \"\n                            f\"{float(data_arrays[k][j][1]):>14.10f}    \"\n                            f\"{float(data_arrays[k][j][2]):>14.10f}    \"\n                            f\"{float(data_arrays[k][j][3]):>14.10f}    \"\n                        )\n                    else:\n                        f.write(\n                            f\"{float(data_arrays[k][j][1]) * FORCE_FACTOR:>14.10f}    \"\n                            f\"{float(data_arrays[k][j][2]) * FORCE_FACTOR:>14.10f}    \"\n                            f\"{float(data_arrays[k][j][3]) * FORCE_FACTOR:>14.10f}    \"\n                        )\n                f.write(\"\\n\")"
      ]
    },
    {
      "cell_type": "markdown",
      "metadata": {},
      "source": [
        "We now call the converter on our DFT files\n\n"
      ]
    },
    {
      "cell_type": "code",
      "execution_count": null,
      "metadata": {
        "collapsed": false
      },
      "outputs": [],
      "source": [
        "_xyz_to_extxyz(\n    outfile=PROJECT_PATH / \"gap/train2\",\n    positions=PROJECT_PATH / \"dft/Argon_Simulation-pos-1.xyz\",\n    forces=PROJECT_PATH / \"dft/Argon_Simulation-frc-1.xyz\",\n    lattice=[[17.0742, 0, 0],\n             [0, 17.0742, 0],\n             [0, 0, 17.0742]])"
      ]
    },
    {
      "cell_type": "markdown",
      "metadata": {},
      "source": [
        "The converted file can be found in ``gap/train2.xyz``\n\n"
      ]
    }
  ],
  "metadata": {
    "kernelspec": {
      "display_name": "Python 3",
      "language": "python",
      "name": "python3"
    },
    "language_info": {
      "codemirror_mode": {
        "name": "ipython",
        "version": 3
      },
      "file_extension": ".py",
      "mimetype": "text/x-python",
      "name": "python",
      "nbconvert_exporter": "python",
      "pygments_lexer": "ipython3",
      "version": "3.9.21"
    }
  },
  "nbformat": 4,
  "nbformat_minor": 0
}