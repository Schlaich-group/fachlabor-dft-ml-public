{
  "cells": [
    {
      "cell_type": "markdown",
      "metadata": {},
      "source": [
        "\n# Learn forces and energies with GAP\n\nIn this tutorial you will learn how to learn energies and forces using GAP.\n\nWe will need quip and ase\n"
      ]
    },
    {
      "cell_type": "code",
      "execution_count": null,
      "metadata": {
        "collapsed": false
      },
      "outputs": [],
      "source": [
        "import numpy as np\nimport subprocess\nfrom pathlib import Path\nimport ase\nimport ase.io \nimport matplotlib.pyplot as plt\nimport matplotlib\nimport os\nfrom quippy.potential import Potential\n\nPROJECT_PATH=Path(\"/work/amam/ckf7015/fachlabor-dft-ml/solutions\")\nos.chdir(PROJECT_PATH)"
      ]
    },
    {
      "cell_type": "markdown",
      "metadata": {},
      "source": [
        "Next, we write a little bash script to run the gap_fit program. \n\n"
      ]
    },
    {
      "cell_type": "code",
      "execution_count": null,
      "metadata": {
        "collapsed": false
      },
      "outputs": [],
      "source": [
        "gap_fit_cmd = \"\"\"\ngap_fit e0_method=average \\\n        at_file=gap/train_500.xyz \\\n\t    gap={distance_2b \\\n                cutoff=6.0 \\\n                covariance_type=ard_se \\\n                delta=1 \\\n                theta_uniform=1.0 \\\n                sparse_method=uniform \\\n                n_sparse=300 \\\n                Z1=18 Z2=18 :\\\n            soap \\\n                l_max=6 \\\n                n_max=6 \\\n                atom_sigma=0.5 \\\n                zeta=4 \\\n                cutoff=6.0 \\\n                cutoff_transition_width=0.5 \\\n                covariance_type=dot_product \\\n                n_sparse=300 \\\n                sparse_method=random \\\n                delta=1.0 \\\n                n_Z=1 Z={18}} \\\n\t    gp_file=gap/SOAP_500.xml \\\n        default_sigma={0.003 0.15 0 0} \\\n        sparse_jitter=1.0e-10 \\\n        force_parameter_name=forces \\\n        energy_parameter_name=energy\n\n\"\"\"\n\nRERUN_GAP = False"
      ]
    },
    {
      "cell_type": "markdown",
      "metadata": {},
      "source": [
        "Let's walk through the different options...( long long walkthrough )\nWe execute our script with \n\n"
      ]
    },
    {
      "cell_type": "code",
      "execution_count": null,
      "metadata": {
        "collapsed": false
      },
      "outputs": [],
      "source": [
        "if RERUN_GAP:\n    subprocess.run(gap_fit_cmd, cwd=str(PROJECT_PATH))"
      ]
    },
    {
      "cell_type": "markdown",
      "metadata": {},
      "source": [
        "Next, we want to use the generated GAP potential to calculate the energies and forces. \n\n"
      ]
    },
    {
      "cell_type": "code",
      "execution_count": null,
      "metadata": {
        "collapsed": false
      },
      "outputs": [],
      "source": [
        "soap = Potential(param_filename=PROJECT_PATH/\"gap\"/\"SOAP_500.xml\")\n\ndef rms_dict(x_ref, x_pred):\n    \"\"\" Takes two datasets of the same shape and returns a dictionary containing RMS error data\"\"\"\n\n    x_ref = np.array(x_ref)\n    x_pred = np.array(x_pred)\n\n    if np.shape(x_pred) != np.shape(x_ref):\n        raise ValueError('WARNING: not matching shapes in rms')\n\n    error_2 = (x_ref - x_pred) ** 2\n\n    average = np.sqrt(np.average(error_2))\n    print(average)\n    std_ = np.sqrt(np.var(error_2))\n\n    return {'rmse': average, 'std': std_}\n\ndef energy_plot(in_file, ax, title='Plot of energy'):\n    \"\"\" Plots the distribution of energy per atom on the output vs the input\"\"\"\n    # read files\n    in_frames = ase.io.read(in_file, ':')\n\n    print(in_frames[0])\n    print(f\"number of frames {len(in_frames)}\")\n    print(f\"position array has shape {in_frames[0].positions.shape}\")\n    print(f\"{len(in_frames[0].get_chemical_symbols())}\")\n    # list energies\n    ener_in = [frame.get_potential_energy() / len(frame.get_chemical_symbols()) for frame in in_frames]\n    ener_out = []\n    for frame in  in_frames:\n        frame.set_calculator(soap)\n        ener_out+=[frame.get_potential_energy() / len(frame.get_chemical_symbols())]\n    #ener_out = [frame.get_potential_energy() / len(frame.get_chemical_symbols()) for frame in out_frames]\n    # scatter plot of the data\n    ax.scatter(ener_in, ener_out)\n    # get the appropriate limits for the plot\n    for_limits = np.array(ener_in +ener_out)\n    elim = (for_limits.min() - 0.005, for_limits.max() + 0.005)\n    ax.set_xlim(elim)\n    ax.set_ylim(elim)\n    # add line of slope 1 for refrence\n    ax.plot(elim, elim, c='k')\n    # set labels\n    ax.set_ylabel('energy by GAP / eV')\n    ax.set_xlabel('energy by CP2K / eV')\n    #set title\n    ax.set_title(title)\n    # add text about RMSE\n    _rms = rms_dict(ener_in, ener_out)\n    rmse_text = 'RMSE:\\n' + str(np.round(_rms['rmse'], 5)) + ' +- ' + str(np.round(_rms['std'], 5)) + 'eV/atom'\n    rmse_text = f\"RMSE: {_rms['rmse']:2e} +- {_rms['std']:2e} eV/atom\"\n    ax.text(0.9, 0.1, rmse_text, transform=ax.transAxes, fontsize='small', horizontalalignment='right',\n            verticalalignment='bottom')\n\ndef force_plot(in_file, ax, symbol='HO', title='Plot of force'):\n    \"\"\" Plots the distribution of firce components per atom on the output vs the input\n        only plots for the given atom type(s)\"\"\"\n\n    in_atoms = ase.io.read(in_file, ':')\n\n    symbol=[\"Ar\"]\n    # extract data for only one species\n    in_force, out_force = [], []\n    for at_in in in_atoms:\n        # get the symbols\n        sym_all = at_in.get_chemical_symbols()\n        # add force for each atom\n        for j, sym in enumerate(sym_all):\n            if sym in symbol:\n                in_force.append(at_in.get_forces()[j]) \n        at_in.set_calculator(soap)\n        for j, sym in enumerate(sym_all):\n            if sym in symbol:\n                out_force.append(at_in.get_forces()[j]) \n    print(len(in_force))\n    print(in_force[0].shape)\n    # convert to np arrays, much easier to work with\n    in_force = np.array(in_force)\n    out_force = np.array(out_force)\n    in_force = np.sqrt(np.sum(in_force**2, axis=1))\n    out_force = np.sqrt(np.sum(out_force**2, axis=1))\n    print(in_force.shape)\n    # scatter plot of the data\n    ax.scatter(in_force, out_force)\n    # get the appropriate limits for the plot\n    #for_limits = np.array(in_force + out_force)\n    #flim = (for_limits.min() - 1, for_limits.max() + 1)\n    #ax.set_xlim(flim)\n    #ax.set_ylim(flim)\n    # add line of\n    #ax.plot(flim, flim, c='k')\n    # set labels\n    ax.set_ylabel('force by GAP / (eV/\u00c5)')\n    ax.set_xlabel('force by CP2K / (eV/\u00c5)')\n    #set title\n    ax.set_title(title)\n    # add text about RMSE\n    _rms = rms_dict(in_force, out_force)\n    #rmse_text = 'RMSE:\\n' + str(np.round(_rms['rmse'], 5)) + ' +- ' + str(np.round(_rms['std'], 5)) + 'eV/\u00c5'\n    rmse_text = f\"RMSE: {_rms['rmse']:2e} +- {_rms['std']:2e} eV/A\"\n    ax.text(0.9, 0.1, rmse_text, transform=ax.transAxes, fontsize='small', horizontalalignment='right',\n            verticalalignment='bottom')\n\nfig, ax = plt.subplots(1, 1)\nenergy_plot(\"gap/test.xyz\", ax, \"Energy on training data\")\nfig.savefig(\"plots/energy_plot_500.png\")\n\n\nfig, ax = plt.subplots(1, 1)\nforce_plot(\"gap/test.xyz\", ax, \"Force on training data\")\nfig.savefig(\"plots/force_plot_500.png\")\n\nfig, ax = plt.subplots(1, 1)\nenergy_plot(\"gap/validate.xyz\", ax, \"Energy on validation data\")\nfig.savefig(\"plots/energy_plot_validate_500.png\")\n\n\nfig, ax = plt.subplots(1, 1)\nforce_plot(\"gap/validate.xyz\", ax, \"Force on validation data\")\nfig.savefig(\"plots/force_plot_validate_500.png\")"
      ]
    }
  ],
  "metadata": {
    "kernelspec": {
      "display_name": "Python 3",
      "language": "python",
      "name": "python3"
    },
    "language_info": {
      "codemirror_mode": {
        "name": "ipython",
        "version": 3
      },
      "file_extension": ".py",
      "mimetype": "text/x-python",
      "name": "python",
      "nbconvert_exporter": "python",
      "pygments_lexer": "ipython3",
      "version": "3.11.3"
    }
  },
  "nbformat": 4,
  "nbformat_minor": 0
}