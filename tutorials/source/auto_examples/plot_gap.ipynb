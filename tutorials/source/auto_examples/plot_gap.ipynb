{
  "cells": [
    {
      "cell_type": "markdown",
      "metadata": {},
      "source": [
        "\n# Using GAP on validation data\n\nIn this tutorial you will learn to use the trained ml potential on validation data. \nWe do this to evaluate how well GAP has learned the energies and forces\nLet us start by importing some Python modules.\n"
      ]
    },
    {
      "cell_type": "code",
      "execution_count": null,
      "metadata": {
        "collapsed": false
      },
      "outputs": [],
      "source": [
        "import numpy as np\nimport matplotlib.pyplot as plt\nimport matplotlib\nimport ase\nimport ase.io \nfrom ase import Atoms\nfrom quippy.potential import Potential\nfrom pathlib import Path\n\nmatplotlib.use(\"agg\")"
      ]
    },
    {
      "cell_type": "markdown",
      "metadata": {},
      "source": [
        "Then we define our project path. Replace the path with your own project path\n\n"
      ]
    },
    {
      "cell_type": "code",
      "execution_count": null,
      "metadata": {
        "collapsed": false
      },
      "outputs": [],
      "source": [
        "PROJECT_PATH=Path(\"../../../solutions/\")"
      ]
    },
    {
      "cell_type": "markdown",
      "metadata": {},
      "source": [
        "Then we load our ML potential. \n\n"
      ]
    },
    {
      "cell_type": "code",
      "execution_count": null,
      "metadata": {
        "collapsed": false
      },
      "outputs": [],
      "source": [
        "ml_potential = Potential(param_filename=str(PROJECT_PATH / \"gap/SOAP_500.xml\"))"
      ]
    },
    {
      "cell_type": "markdown",
      "metadata": {},
      "source": [
        "Let us try out the ML potential. First, we create an Atoms object \n\n"
      ]
    },
    {
      "cell_type": "code",
      "execution_count": null,
      "metadata": {
        "collapsed": false
      },
      "outputs": [],
      "source": [
        "distance = 3.3 # angstrom\ntwo_argon_atoms = Atoms(\"Ar2\", [[0, 0, 0], [0, 0, distance]])\ntwo_argon_atoms.center(vacuum=3)\ntwo_argon_atoms.pbc = [1, 1, 1]"
      ]
    },
    {
      "cell_type": "markdown",
      "metadata": {},
      "source": [
        "Then we set the calculator to ``ml_potential`` and caculate the energy of the system\n\n"
      ]
    },
    {
      "cell_type": "code",
      "execution_count": null,
      "metadata": {
        "collapsed": false
      },
      "outputs": [],
      "source": [
        "two_argon_atoms.set_calculator(ml_potential)\nE = two_argon_atoms.get_potential_energy()\nprint(E)"
      ]
    },
    {
      "cell_type": "markdown",
      "metadata": {},
      "source": [
        "To evaluate the ML potential, we will compare predicted energies (and forces) with DFT energies (and forces). To do so, we will load the coordinates, energies and forces from the DFT simulation. Then we will predict the energy for the coordinates using the ML potential, and compare with the reference energies from the DFT simulation.\n\n"
      ]
    },
    {
      "cell_type": "markdown",
      "metadata": {},
      "source": [
        "To quantify the error, we calculate the root mean square (RMS) error between the reference data and the predicted data. \n\n"
      ]
    },
    {
      "cell_type": "code",
      "execution_count": null,
      "metadata": {
        "collapsed": false
      },
      "outputs": [],
      "source": [
        "def rms_dict(x_ref, x_pred):\n    \"\"\" Takes two datasets of the same shape and returns a dictionary containing RMS error data\"\"\"\n\n    x_ref = np.array(x_ref)\n    x_pred = np.array(x_pred)\n\n    if np.shape(x_pred) != np.shape(x_ref):\n        raise ValueError('WARNING: not matching shapes in rms')\n\n    error_2 = (x_ref - x_pred) ** 2\n\n    average = np.sqrt(np.average(error_2))\n    print(average)\n    std_ = np.sqrt(np.var(error_2))\n\n    return {'rmse': average, 'std': std_}"
      ]
    },
    {
      "cell_type": "markdown",
      "metadata": {},
      "source": [
        "Next, we have a function to plot the predicted energy against the reference energy.\n\n"
      ]
    },
    {
      "cell_type": "code",
      "execution_count": null,
      "metadata": {
        "collapsed": false
      },
      "outputs": [],
      "source": [
        "def energy_plot(in_file, ax, title='Plot of energy'):\n    \"\"\" Plots the distribution of energy per atom on the output vs the input\"\"\"\n    # read files\n    in_frames = ase.io.read(in_file, ':')\n\n    print(in_frames[0])\n    print(f\"number of frames {len(in_frames)}\")\n    print(f\"position array has shape {in_frames[0].positions.shape}\")\n    print(f\"{len(in_frames[0].get_chemical_symbols())}\")\n    # get reference potential energies calculated by DFT\n    ener_in = [frame.get_potential_energy() / len(frame.get_chemical_symbols()) for frame in in_frames]\n    ener_out = []\n    # predict the energies using GAP.\n    # set our ase calculator to ml_potential and then calculate the energy using that calculator. \n    for frame in  in_frames:\n        frame.set_calculator(ml_potential)\n        ener_out+=[frame.get_potential_energy() / len(frame.get_chemical_symbols())]\n    # make a scatter plot of the data\n    ax.scatter(ener_in, ener_out)\n    # get the appropriate limits for the plot\n    for_limits = np.array(ener_in +ener_out)\n    elim = (for_limits.min() - 0.005, for_limits.max() + 0.005)\n    ax.set_xlim(elim)\n    ax.set_ylim(elim)\n    # add line of slope 1 for refrence\n    ax.plot(elim, elim, c='k')\n    # set labels\n    ax.set_ylabel('energy by GAP / eV')\n    ax.set_xlabel('energy by CP2K / eV')\n    #set title\n    ax.set_title(title)\n    # add text about RMSE\n    _rms = rms_dict(ener_in, ener_out)\n    rmse_text = 'RMSE:\\n' + str(np.round(_rms['rmse'], 5)) + ' +- ' + str(np.round(_rms['std'], 5)) + 'eV/atom'\n    rmse_text = f\"RMSE: {_rms['rmse']:2e} +- {_rms['std']:2e} eV/atom\"\n    ax.text(0.9, 0.1, rmse_text, transform=ax.transAxes, fontsize='small', horizontalalignment='right',\n            verticalalignment='bottom')"
      ]
    },
    {
      "cell_type": "markdown",
      "metadata": {},
      "source": [
        "Then, we have a function to plot the predicted force against the reference force.\n\n"
      ]
    },
    {
      "cell_type": "code",
      "execution_count": null,
      "metadata": {
        "collapsed": false
      },
      "outputs": [],
      "source": [
        "def force_plot(in_file, ax, symbol='HO', title='Plot of force'):\n    \"\"\" Plots the distribution of force components per atom on the output vs the input\n        only plots for the given atom type(s)\"\"\"\n\n    in_atoms = ase.io.read(in_file, ':')\n\n    symbol=[\"Ar\"]\n    # extract data for only one species\n    in_force, out_force = [], []\n    for at_in in in_atoms:\n        # get the symbols\n        sym_all = at_in.get_chemical_symbols()\n        # add force for each atom\n        for j, sym in enumerate(sym_all):\n            if sym in symbol:\n                in_force.append(at_in.get_forces()[j]) \n        at_in.set_calculator(ml_potential)\n        for j, sym in enumerate(sym_all):\n            if sym in symbol:\n                out_force.append(at_in.get_forces()[j]) \n    print(len(in_force))\n    print(in_force[0].shape)\n    # convert to np arrays, much easier to work with\n    in_force = np.array(in_force)\n    out_force = np.array(out_force)\n    in_force = np.sqrt(np.sum(in_force**2, axis=1))\n    out_force = np.sqrt(np.sum(out_force**2, axis=1))\n    print(in_force.shape)\n    # scatter plot of the data\n    ax.scatter(in_force, out_force)\n    # set labels\n    ax.set_ylabel('force by GAP / (eV/\u00c5)')\n    ax.set_xlabel('force by CP2K / (eV/\u00c5)')\n    #set title\n    ax.set_title(title)\n    # add text about RMSE\n    _rms = rms_dict(in_force, out_force)\n    #rmse_text = 'RMSE:\\n' + str(np.round(_rms['rmse'], 5)) + ' +- ' + str(np.round(_rms['std'], 5)) + 'eV/\u00c5'\n    rmse_text = f\"RMSE: {_rms['rmse']:2e} +- {_rms['std']:2e} eV/A\"\n    ax.text(0.9, 0.1, rmse_text, transform=ax.transAxes, fontsize='small', horizontalalignment='right',\n            verticalalignment='bottom')"
      ]
    },
    {
      "cell_type": "markdown",
      "metadata": {},
      "source": [
        "Finally, we plot the error and force correlation plots for the training data.\n\n"
      ]
    },
    {
      "cell_type": "code",
      "execution_count": null,
      "metadata": {
        "collapsed": false
      },
      "outputs": [],
      "source": [
        "fig, ax = plt.subplots(1, 1)\nenergy_plot(PROJECT_PATH / \"gap/train.xyz\", ax, \"Energy on training data\")\nfig.savefig(\"plots/energy_plot_500.png\")\n\n\nfig, ax = plt.subplots(1, 1)\nforce_plot(PROJECT_PATH / \"gap/train.xyz\", ax, \"Force on training data\")\nfig.savefig(\"plots/force_plot_500.png\")"
      ]
    }
  ],
  "metadata": {
    "kernelspec": {
      "display_name": "Python 3",
      "language": "python",
      "name": "python3"
    },
    "language_info": {
      "codemirror_mode": {
        "name": "ipython",
        "version": 3
      },
      "file_extension": ".py",
      "mimetype": "text/x-python",
      "name": "python",
      "nbconvert_exporter": "python",
      "pygments_lexer": "ipython3",
      "version": "3.11.3"
    }
  },
  "nbformat": 4,
  "nbformat_minor": 0
}